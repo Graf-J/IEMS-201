{
 "cells": [
  {
   "cell_type": "code",
   "execution_count": 1,
   "id": "287e4840",
   "metadata": {},
   "outputs": [],
   "source": [
    "from io import StringIO\n",
    "import numpy as np\n",
    "import pandas as pd\n",
    "import matplotlib.pyplot as plt"
   ]
  },
  {
   "cell_type": "code",
   "execution_count": 2,
   "id": "4a752291",
   "metadata": {},
   "outputs": [],
   "source": [
    "def get_data(file: str) -> pd.DataFrame:\n",
    "    data = []\n",
    "    with open(f\"data\\\\{file}\", \"r\") as file:\n",
    "        for idx, line in enumerate(file.readlines()):\n",
    "            # Skip Metadata lines\n",
    "            if idx in [0, 1, 2, 3, 4, 6]:\n",
    "                continue\n",
    "\n",
    "            data.append(line)\n",
    "\n",
    "    return pd.read_csv(StringIO(\"\".join(data))).rename(\n",
    "        columns={\n",
    "            \"Load (lbf)\": \"Load (lbs)\",\n",
    "        }\n",
    "    )"
   ]
  },
  {
   "cell_type": "code",
   "execution_count": 3,
   "id": "eb401207",
   "metadata": {},
   "outputs": [],
   "source": [
    "brush_tests = [\n",
    "    \"1\",\n",
    "    \"2\",\n",
    "    \"3\",\n",
    "    \"4\",\n",
    "    # \"5\",\n",
    "    # \"5a\",\n",
    "    \"6\",\n",
    "    \"7\",\n",
    "    \"8\",\n",
    "    \"9\",\n",
    "    \"10\",\n",
    "    \"11\",\n",
    "    \"12\",\n",
    "    \"13\",\n",
    "    \"14\",\n",
    "    \"15\",\n",
    "]\n",
    "\n",
    "dataframes = {}\n",
    "for brush in brush_tests:\n",
    "    dataframes[brush] = get_data(f\"Ankenman brushes_{brush}.txt\")"
   ]
  },
  {
   "cell_type": "code",
   "execution_count": 4,
   "id": "225e1b60",
   "metadata": {},
   "outputs": [],
   "source": [
    "df = (\n",
    "    pd.concat(\n",
    "        [df.reset_index(drop=True) for df in dataframes.values()],\n",
    "        keys=dataframes.keys(),\n",
    "        names=[\"Brush\"],\n",
    "    )\n",
    "    .reset_index()\n",
    "    .drop(columns=[\"level_1\"])\n",
    ")\n",
    "df_load_max = df.groupby(\"Brush\").max()[[\"Load (lbs)\"]]\n",
    "df_load_max = df_load_max.reindex(brush_tests)"
   ]
  },
  {
   "cell_type": "code",
   "execution_count": 5,
   "id": "ee812872",
   "metadata": {},
   "outputs": [
    {
     "data": {
      "text/html": [
       "<div>\n",
       "<style scoped>\n",
       "    .dataframe tbody tr th:only-of-type {\n",
       "        vertical-align: middle;\n",
       "    }\n",
       "\n",
       "    .dataframe tbody tr th {\n",
       "        vertical-align: top;\n",
       "    }\n",
       "\n",
       "    .dataframe thead th {\n",
       "        text-align: right;\n",
       "    }\n",
       "</style>\n",
       "<table border=\"1\" class=\"dataframe\">\n",
       "  <thead>\n",
       "    <tr style=\"text-align: right;\">\n",
       "      <th></th>\n",
       "      <th>Load (lbs)</th>\n",
       "    </tr>\n",
       "    <tr>\n",
       "      <th>Brush</th>\n",
       "      <th></th>\n",
       "    </tr>\n",
       "  </thead>\n",
       "  <tbody>\n",
       "    <tr>\n",
       "      <th>1</th>\n",
       "      <td>216</td>\n",
       "    </tr>\n",
       "    <tr>\n",
       "      <th>2</th>\n",
       "      <td>107</td>\n",
       "    </tr>\n",
       "    <tr>\n",
       "      <th>3</th>\n",
       "      <td>152</td>\n",
       "    </tr>\n",
       "    <tr>\n",
       "      <th>4</th>\n",
       "      <td>236</td>\n",
       "    </tr>\n",
       "    <tr>\n",
       "      <th>6</th>\n",
       "      <td>127</td>\n",
       "    </tr>\n",
       "    <tr>\n",
       "      <th>7</th>\n",
       "      <td>208</td>\n",
       "    </tr>\n",
       "    <tr>\n",
       "      <th>8</th>\n",
       "      <td>232</td>\n",
       "    </tr>\n",
       "    <tr>\n",
       "      <th>9</th>\n",
       "      <td>220</td>\n",
       "    </tr>\n",
       "    <tr>\n",
       "      <th>10</th>\n",
       "      <td>245</td>\n",
       "    </tr>\n",
       "    <tr>\n",
       "      <th>11</th>\n",
       "      <td>151</td>\n",
       "    </tr>\n",
       "    <tr>\n",
       "      <th>12</th>\n",
       "      <td>221</td>\n",
       "    </tr>\n",
       "    <tr>\n",
       "      <th>13</th>\n",
       "      <td>148</td>\n",
       "    </tr>\n",
       "    <tr>\n",
       "      <th>14</th>\n",
       "      <td>129</td>\n",
       "    </tr>\n",
       "    <tr>\n",
       "      <th>15</th>\n",
       "      <td>159</td>\n",
       "    </tr>\n",
       "  </tbody>\n",
       "</table>\n",
       "</div>"
      ],
      "text/plain": [
       "       Load (lbs)\n",
       "Brush            \n",
       "1             216\n",
       "2             107\n",
       "3             152\n",
       "4             236\n",
       "6             127\n",
       "7             208\n",
       "8             232\n",
       "9             220\n",
       "10            245\n",
       "11            151\n",
       "12            221\n",
       "13            148\n",
       "14            129\n",
       "15            159"
      ]
     },
     "execution_count": 5,
     "metadata": {},
     "output_type": "execute_result"
    }
   ],
   "source": [
    "df_load_max = df_load_max.drop([])\n",
    "df_load_max"
   ]
  },
  {
   "cell_type": "code",
   "execution_count": 6,
   "id": "b7a8132a",
   "metadata": {},
   "outputs": [],
   "source": [
    "n = len(df_load_max)\n",
    "sample_mean = df_load_max[\"Load (lbs)\"].mean()\n",
    "sample_median = df_load_max[\"Load (lbs)\"].median()\n",
    "sample_stddev = df_load_max[\"Load (lbs)\"].std()"
   ]
  },
  {
   "cell_type": "code",
   "execution_count": 7,
   "id": "87767c98",
   "metadata": {},
   "outputs": [],
   "source": [
    "def E1(x: np.ndarray) -> np.float64:\n",
    "    return np.mean(x) - 1.28 * np.std(x, ddof=1)"
   ]
  },
  {
   "cell_type": "code",
   "execution_count": 8,
   "id": "83cfdf71",
   "metadata": {},
   "outputs": [],
   "source": [
    "def get_E1_confidence_interval(sample_size: int) -> np.ndarray:\n",
    "    data = np.random.normal(\n",
    "        loc=sample_mean, scale=sample_stddev, size=(10_000, sample_size)\n",
    "    )\n",
    "\n",
    "    E1_values = np.apply_along_axis(E1, 1, data)\n",
    "\n",
    "    E1_mean = E1_values.mean()\n",
    "    E1_stddev = E1_values.std(ddof=1)\n",
    "\n",
    "    return np.array([E1_mean - 2 * E1_stddev, E1_mean + 2 * E1_stddev])"
   ]
  },
  {
   "cell_type": "code",
   "execution_count": 9,
   "id": "4871355d",
   "metadata": {},
   "outputs": [
    {
     "data": {
      "text/plain": [
       "array([[ 66.64203197, 184.01733521],\n",
       "       [ 82.15653435, 164.22939445],\n",
       "       [ 89.59330612, 155.97523607],\n",
       "       [ 93.82190956, 150.94986753],\n",
       "       [ 96.24746362, 148.14266405],\n",
       "       [ 98.66685928, 145.95620115],\n",
       "       [100.5342256 , 143.45215685],\n",
       "       [101.65574384, 142.48464951],\n",
       "       [102.69135584, 140.95532622],\n",
       "       [103.76165376, 139.94525932],\n",
       "       [104.6321443 , 138.96240845],\n",
       "       [105.26187261, 138.33040393],\n",
       "       [106.35217565, 137.83444625],\n",
       "       [106.62479404, 137.12875351],\n",
       "       [106.85163216, 136.62538707],\n",
       "       [107.57083494, 135.94975022],\n",
       "       [107.99173157, 135.58932612],\n",
       "       [108.12907203, 135.33189452],\n",
       "       [108.68958099, 134.82295612],\n",
       "       [108.99118244, 134.53842528],\n",
       "       [109.19245684, 134.10699436],\n",
       "       [109.462879  , 133.89201829],\n",
       "       [109.58353738, 133.68256794],\n",
       "       [109.85804045, 133.48273421],\n",
       "       [110.24115758, 133.19519086],\n",
       "       [110.58123217, 132.75373305],\n",
       "       [110.65773121, 132.72299011],\n",
       "       [111.01076048, 132.48716355],\n",
       "       [111.01484847, 132.21086095],\n",
       "       [111.31735366, 132.15645605],\n",
       "       [111.29770159, 131.96097569],\n",
       "       [111.59810023, 131.85823266],\n",
       "       [111.81298276, 131.63163135],\n",
       "       [111.96210608, 131.30554597],\n",
       "       [112.01080783, 131.40875798],\n",
       "       [112.20176395, 131.11101762],\n",
       "       [112.18033814, 130.95388718],\n",
       "       [112.408783  , 130.84839984],\n",
       "       [112.4684737 , 130.8139198 ]])"
      ]
     },
     "execution_count": 9,
     "metadata": {},
     "output_type": "execute_result"
    }
   ],
   "source": [
    "E1_intervals = []\n",
    "for sample_size in range(5, 200, 5):\n",
    "    E1_intervals.append(get_E1_confidence_interval(sample_size))\n",
    "\n",
    "E1_intervals = np.array(E1_intervals)\n",
    "E1_intervals"
   ]
  },
  {
   "cell_type": "code",
   "execution_count": 10,
   "id": "1fe5ef93",
   "metadata": {},
   "outputs": [
    {
     "data": {
      "image/png": "[encoded data removed]",
      "text/plain": [
       "<Figure size 640x480 with 1 Axes>"
      ]
     },
     "metadata": {},
     "output_type": "display_data"
    }
   ],
   "source": [
    "for idx, sample_size in enumerate(range(5, 200, 5)):\n",
    "    interval = E1_intervals[idx]\n",
    "    plt.vlines(x=sample_size, ymin=interval[0], ymax=interval[1], color=\"black\")\n",
    "    plt.hlines(\n",
    "        y=interval[0], xmin=sample_size - 1.5, xmax=sample_size + 1.5, color=\"black\"\n",
    "    )\n",
    "    plt.hlines(\n",
    "        y=interval[1], xmin=sample_size - 1.5, xmax=sample_size + 1.5, color=\"black\"\n",
    "    )\n",
    "\n",
    "plt.axhline(y=110, color=\"red\", linestyle=\"--\", label=\"110 lbs Threshold\")\n",
    "\n",
    "plt.title(\"Confidence Intervals for E1 Estimator vs Sample Size\")\n",
    "plt.xlabel(\"Sample Size\")\n",
    "plt.ylabel(\"Load (lbs)\")\n",
    "\n",
    "plt.show()"
   ]
  }
 ],
 "metadata": {
  "kernelspec": {
   "display_name": "statistics",
   "language": "python",
   "name": "python3"
  },
  "language_info": {
   "codemirror_mode": {
    "name": "ipython",
    "version": 3
   },
   "file_extension": ".py",
   "mimetype": "text/x-python",
   "name": "python",
   "nbconvert_exporter": "python",
   "pygments_lexer": "ipython3",
   "version": "3.11.6"
  }
 },
 "nbformat": 4,
 "nbformat_minor": 5
}

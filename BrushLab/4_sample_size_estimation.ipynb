{
 "cells": [
  {
   "cell_type": "code",
   "execution_count": 21,
   "id": "287e4840",
   "metadata": {},
   "outputs": [],
   "source": [
    "from io import StringIO\n",
    "import numpy as np\n",
    "import pandas as pd\n",
    "import matplotlib.pyplot as plt"
   ]
  },
  {
   "cell_type": "code",
   "execution_count": 22,
   "id": "4a752291",
   "metadata": {},
   "outputs": [],
   "source": [
    "def get_data(file: str) -> pd.DataFrame:\n",
    "    data = []\n",
    "    with open(f\"data\\\\{file}\", \"r\") as file:\n",
    "        for idx, line in enumerate(file.readlines()):\n",
    "            # Skip Metadata lines\n",
    "            if idx in [0, 1, 2, 3, 4, 6]:\n",
    "                continue\n",
    "\n",
    "            data.append(line)\n",
    "\n",
    "    return pd.read_csv(StringIO(\"\".join(data))).rename(\n",
    "        columns={\n",
    "            \"Load (lbf)\": \"Load (lbs)\",\n",
    "        }\n",
    "    )"
   ]
  },
  {
   "cell_type": "code",
   "execution_count": 23,
   "id": "eb401207",
   "metadata": {},
   "outputs": [],
   "source": [
    "brush_tests = [\n",
    "    \"1\",\n",
    "    \"2\",\n",
    "    \"3\",\n",
    "    \"4\",\n",
    "    # \"5\",\n",
    "    # \"5a\",\n",
    "    \"6\",\n",
    "    \"7\",\n",
    "    \"8\",\n",
    "    \"9\",\n",
    "    \"10\",\n",
    "    \"11\",\n",
    "    \"12\",\n",
    "    \"13\",\n",
    "    \"14\",\n",
    "    \"15\",\n",
    "]\n",
    "\n",
    "dataframes = {}\n",
    "for brush in brush_tests:\n",
    "    dataframes[brush] = get_data(f\"Ankenman brushes_{brush}.txt\")"
   ]
  },
  {
   "cell_type": "code",
   "execution_count": 24,
   "id": "225e1b60",
   "metadata": {},
   "outputs": [],
   "source": [
    "df = (\n",
    "    pd.concat(\n",
    "        [df.reset_index(drop=True) for df in dataframes.values()],\n",
    "        keys=dataframes.keys(),\n",
    "        names=[\"Brush\"],\n",
    "    )\n",
    "    .reset_index()\n",
    "    .drop(columns=[\"level_1\"])\n",
    ")\n",
    "df_load_max = df.groupby(\"Brush\").max()[[\"Load (lbs)\"]]\n",
    "df_load_max = df_load_max.reindex(brush_tests)"
   ]
  },
  {
   "cell_type": "code",
   "execution_count": 25,
   "id": "ee812872",
   "metadata": {},
   "outputs": [
    {
     "data": {
      "text/html": [
       "<div>\n",
       "<style scoped>\n",
       "    .dataframe tbody tr th:only-of-type {\n",
       "        vertical-align: middle;\n",
       "    }\n",
       "\n",
       "    .dataframe tbody tr th {\n",
       "        vertical-align: top;\n",
       "    }\n",
       "\n",
       "    .dataframe thead th {\n",
       "        text-align: right;\n",
       "    }\n",
       "</style>\n",
       "<table border=\"1\" class=\"dataframe\">\n",
       "  <thead>\n",
       "    <tr style=\"text-align: right;\">\n",
       "      <th></th>\n",
       "      <th>Load (lbs)</th>\n",
       "    </tr>\n",
       "    <tr>\n",
       "      <th>Brush</th>\n",
       "      <th></th>\n",
       "    </tr>\n",
       "  </thead>\n",
       "  <tbody>\n",
       "    <tr>\n",
       "      <th>1</th>\n",
       "      <td>216</td>\n",
       "    </tr>\n",
       "    <tr>\n",
       "      <th>2</th>\n",
       "      <td>107</td>\n",
       "    </tr>\n",
       "    <tr>\n",
       "      <th>3</th>\n",
       "      <td>152</td>\n",
       "    </tr>\n",
       "    <tr>\n",
       "      <th>4</th>\n",
       "      <td>236</td>\n",
       "    </tr>\n",
       "    <tr>\n",
       "      <th>6</th>\n",
       "      <td>127</td>\n",
       "    </tr>\n",
       "    <tr>\n",
       "      <th>7</th>\n",
       "      <td>208</td>\n",
       "    </tr>\n",
       "    <tr>\n",
       "      <th>8</th>\n",
       "      <td>232</td>\n",
       "    </tr>\n",
       "    <tr>\n",
       "      <th>9</th>\n",
       "      <td>220</td>\n",
       "    </tr>\n",
       "    <tr>\n",
       "      <th>10</th>\n",
       "      <td>245</td>\n",
       "    </tr>\n",
       "    <tr>\n",
       "      <th>11</th>\n",
       "      <td>151</td>\n",
       "    </tr>\n",
       "    <tr>\n",
       "      <th>12</th>\n",
       "      <td>221</td>\n",
       "    </tr>\n",
       "    <tr>\n",
       "      <th>13</th>\n",
       "      <td>148</td>\n",
       "    </tr>\n",
       "    <tr>\n",
       "      <th>14</th>\n",
       "      <td>129</td>\n",
       "    </tr>\n",
       "    <tr>\n",
       "      <th>15</th>\n",
       "      <td>159</td>\n",
       "    </tr>\n",
       "  </tbody>\n",
       "</table>\n",
       "</div>"
      ],
      "text/plain": [
       "       Load (lbs)\n",
       "Brush            \n",
       "1             216\n",
       "2             107\n",
       "3             152\n",
       "4             236\n",
       "6             127\n",
       "7             208\n",
       "8             232\n",
       "9             220\n",
       "10            245\n",
       "11            151\n",
       "12            221\n",
       "13            148\n",
       "14            129\n",
       "15            159"
      ]
     },
     "execution_count": 25,
     "metadata": {},
     "output_type": "execute_result"
    }
   ],
   "source": [
    "df_load_max = df_load_max.drop([])\n",
    "df_load_max"
   ]
  },
  {
   "cell_type": "code",
   "execution_count": 26,
   "id": "b7a8132a",
   "metadata": {},
   "outputs": [],
   "source": [
    "n = len(df_load_max)\n",
    "sample_mean = df_load_max[\"Load (lbs)\"].mean()\n",
    "sample_median = df_load_max[\"Load (lbs)\"].median()\n",
    "sample_stddev = df_load_max[\"Load (lbs)\"].std()"
   ]
  },
  {
   "cell_type": "code",
   "execution_count": 27,
   "id": "87767c98",
   "metadata": {},
   "outputs": [],
   "source": [
    "def E1(x: np.ndarray) -> np.float64:\n",
    "    return np.mean(x) - 1.28 * np.std(x, ddof=1)"
   ]
  },
  {
   "cell_type": "code",
   "execution_count": 28,
   "id": "83cfdf71",
   "metadata": {},
   "outputs": [],
   "source": [
    "def get_E1_confidence_interval(sample_size: int) -> np.ndarray:\n",
    "    data = np.random.normal(\n",
    "        loc=sample_mean, scale=sample_stddev, size=(10_000, sample_size)\n",
    "    )\n",
    "\n",
    "    E1_values = np.apply_along_axis(E1, 1, data)\n",
    "\n",
    "    E1_mean = E1_values.mean()\n",
    "    E1_stddev = E1_values.std(ddof=1)\n",
    "\n",
    "    return np.array([E1_mean - 2 * E1_stddev, E1_mean + 2 * E1_stddev])"
   ]
  },
  {
   "cell_type": "code",
   "execution_count": 31,
   "id": "4871355d",
   "metadata": {},
   "outputs": [
    {
     "data": {
      "text/plain": [
       "array([[ 66.90569825, 183.7972266 ],\n",
       "       [ 81.63803929, 164.98547735],\n",
       "       [ 88.87878679, 156.37362871],\n",
       "       [ 93.53825093, 151.00265973],\n",
       "       [ 96.61104802, 147.97114503],\n",
       "       [ 98.50765879, 145.51953507],\n",
       "       [100.12027063, 143.6913835 ],\n",
       "       [101.44970926, 142.35455496],\n",
       "       [102.6107389 , 140.88672978],\n",
       "       [103.62116452, 140.08285203],\n",
       "       [104.74658658, 139.15063916],\n",
       "       [105.23045602, 138.35936297],\n",
       "       [105.98767832, 137.72256081],\n",
       "       [106.38768143, 137.42764895],\n",
       "       [106.9458657 , 136.77547934],\n",
       "       [107.72212818, 135.97771215],\n",
       "       [108.06961718, 135.60266941],\n",
       "       [108.25946359, 135.25540491],\n",
       "       [108.6334982 , 135.04477089],\n",
       "       [108.89270147, 134.60966034],\n",
       "       [109.09507781, 134.18533074],\n",
       "       [109.41105049, 133.79597722],\n",
       "       [109.70311188, 133.53351594],\n",
       "       [110.05779027, 133.32772563],\n",
       "       [110.19663684, 133.17275035],\n",
       "       [110.44404286, 132.98298453],\n",
       "       [110.67128349, 132.76404188],\n",
       "       [110.96897292, 132.59411873],\n",
       "       [111.14150936, 132.21425797],\n",
       "       [111.20121553, 132.05476526],\n",
       "       [111.22738765, 132.01584243],\n",
       "       [111.50682783, 131.81723028],\n",
       "       [111.70560171, 131.65831039],\n",
       "       [111.89886526, 131.49128696],\n",
       "       [111.90288984, 131.48032655],\n",
       "       [112.15720306, 131.04176768],\n",
       "       [112.31440814, 130.97398437],\n",
       "       [112.34781932, 130.87160025],\n",
       "       [112.421285  , 130.83552316]])"
      ]
     },
     "execution_count": 31,
     "metadata": {},
     "output_type": "execute_result"
    }
   ],
   "source": [
    "E1_intervals = []\n",
    "for sample_size in range(5, 200, 5):\n",
    "    E1_intervals.append(get_E1_confidence_interval(sample_size))\n",
    "\n",
    "E1_intervals = np.array(E1_intervals)\n",
    "E1_intervals"
   ]
  },
  {
   "cell_type": "code",
   "execution_count": 32,
   "id": "1fe5ef93",
   "metadata": {},
   "outputs": [
    {
     "data": {
      "image/png": "[encoded data removed]",
      "text/plain": [
       "<Figure size 640x480 with 1 Axes>"
      ]
     },
     "metadata": {},
     "output_type": "display_data"
    }
   ],
   "source": [
    "for idx, sample_size in enumerate(range(5, 200, 5)):\n",
    "    interval = E1_intervals[idx]\n",
    "    plt.vlines(x=sample_size, ymin=interval[0], ymax=interval[1], color=\"black\")\n",
    "    plt.hlines(\n",
    "        y=interval[0], xmin=sample_size - 1.5, xmax=sample_size + 1.5, color=\"black\"\n",
    "    )\n",
    "    plt.hlines(\n",
    "        y=interval[1], xmin=sample_size - 1.5, xmax=sample_size + 1.5, color=\"black\"\n",
    "    )\n",
    "\n",
    "plt.axhline(y=110, color=\"red\", linestyle=\"--\", label=\"110 lbs Threshold\")\n",
    "\n",
    "plt.title(\"Confidence Intervals for E1 Estimator vs Sample Size\")\n",
    "plt.xlabel(\"Sample Size\")\n",
    "plt.ylabel(\"Load (lbs)\")\n",
    "\n",
    "plt.show()"
   ]
  }
 ],
 "metadata": {
  "kernelspec": {
   "display_name": "statistics",
   "language": "python",
   "name": "python3"
  },
  "language_info": {
   "codemirror_mode": {
    "name": "ipython",
    "version": 3
   },
   "file_extension": ".py",
   "mimetype": "text/x-python",
   "name": "python",
   "nbconvert_exporter": "python",
   "pygments_lexer": "ipython3",
   "version": "3.11.6"
  }
 },
 "nbformat": 4,
 "nbformat_minor": 5
}

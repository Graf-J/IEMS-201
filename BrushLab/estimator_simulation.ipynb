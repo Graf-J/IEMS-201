{
 "cells": [
  {
   "cell_type": "code",
   "execution_count": 161,
   "id": "31f75f00",
   "metadata": {},
   "outputs": [],
   "source": [
    "from io import StringIO\n",
    "import numpy as np\n",
    "import pandas as pd\n",
    "import matplotlib.pyplot as plt\n",
    "import seaborn as sns"
   ]
  },
  {
   "cell_type": "markdown",
   "id": "eb537fdd",
   "metadata": {},
   "source": [
    "# Data Extraction"
   ]
  },
  {
   "cell_type": "code",
   "execution_count": 162,
   "id": "bb3c73c6",
   "metadata": {},
   "outputs": [],
   "source": [
    "def get_data(file: str) -> pd.DataFrame:\n",
    "    data = []\n",
    "    with open(f\"data\\\\{file}\", \"r\") as file:\n",
    "        for idx, line in enumerate(file.readlines()):\n",
    "            # Skip Metadata lines\n",
    "            if idx in [0, 1, 2, 3, 4, 6]:\n",
    "                continue\n",
    "\n",
    "            data.append(line)\n",
    "\n",
    "    return pd.read_csv(StringIO(\"\".join(data))).rename(\n",
    "        columns={\n",
    "            \"Load (lbf)\": \"Load (lbs)\",\n",
    "        }\n",
    "    )"
   ]
  },
  {
   "cell_type": "code",
   "execution_count": 163,
   "id": "8a7eec52",
   "metadata": {},
   "outputs": [],
   "source": [
    "brush_tests = [\n",
    "    \"1\",\n",
    "    \"2\",\n",
    "    \"3\",\n",
    "    \"4\",\n",
    "    \"5\",\n",
    "    \"5a\",\n",
    "    \"6\",\n",
    "    \"7\",\n",
    "    \"8\",\n",
    "    \"9\",\n",
    "    \"10\",\n",
    "    \"11\",\n",
    "    \"12\",\n",
    "    \"13\",\n",
    "    \"14\",\n",
    "    \"15\",\n",
    "]\n",
    "\n",
    "dataframes = {}\n",
    "for brush in brush_tests:\n",
    "    dataframes[brush] = get_data(f\"Ankenman brushes_{brush}.txt\")"
   ]
  },
  {
   "cell_type": "code",
   "execution_count": 164,
   "id": "0d8daf13",
   "metadata": {},
   "outputs": [
    {
     "data": {
      "text/html": [
       "<div>\n",
       "<style scoped>\n",
       "    .dataframe tbody tr th:only-of-type {\n",
       "        vertical-align: middle;\n",
       "    }\n",
       "\n",
       "    .dataframe tbody tr th {\n",
       "        vertical-align: top;\n",
       "    }\n",
       "\n",
       "    .dataframe thead th {\n",
       "        text-align: right;\n",
       "    }\n",
       "</style>\n",
       "<table border=\"1\" class=\"dataframe\">\n",
       "  <thead>\n",
       "    <tr style=\"text-align: right;\">\n",
       "      <th></th>\n",
       "      <th>Load (lbs)</th>\n",
       "    </tr>\n",
       "    <tr>\n",
       "      <th>Brush</th>\n",
       "      <th></th>\n",
       "    </tr>\n",
       "  </thead>\n",
       "  <tbody>\n",
       "    <tr>\n",
       "      <th>1</th>\n",
       "      <td>216</td>\n",
       "    </tr>\n",
       "    <tr>\n",
       "      <th>10</th>\n",
       "      <td>245</td>\n",
       "    </tr>\n",
       "    <tr>\n",
       "      <th>11</th>\n",
       "      <td>151</td>\n",
       "    </tr>\n",
       "    <tr>\n",
       "      <th>12</th>\n",
       "      <td>221</td>\n",
       "    </tr>\n",
       "    <tr>\n",
       "      <th>13</th>\n",
       "      <td>148</td>\n",
       "    </tr>\n",
       "    <tr>\n",
       "      <th>14</th>\n",
       "      <td>129</td>\n",
       "    </tr>\n",
       "    <tr>\n",
       "      <th>15</th>\n",
       "      <td>159</td>\n",
       "    </tr>\n",
       "    <tr>\n",
       "      <th>2</th>\n",
       "      <td>107</td>\n",
       "    </tr>\n",
       "    <tr>\n",
       "      <th>3</th>\n",
       "      <td>152</td>\n",
       "    </tr>\n",
       "    <tr>\n",
       "      <th>4</th>\n",
       "      <td>236</td>\n",
       "    </tr>\n",
       "    <tr>\n",
       "      <th>5</th>\n",
       "      <td>199</td>\n",
       "    </tr>\n",
       "    <tr>\n",
       "      <th>5a</th>\n",
       "      <td>199</td>\n",
       "    </tr>\n",
       "    <tr>\n",
       "      <th>6</th>\n",
       "      <td>127</td>\n",
       "    </tr>\n",
       "    <tr>\n",
       "      <th>7</th>\n",
       "      <td>208</td>\n",
       "    </tr>\n",
       "    <tr>\n",
       "      <th>8</th>\n",
       "      <td>232</td>\n",
       "    </tr>\n",
       "    <tr>\n",
       "      <th>9</th>\n",
       "      <td>220</td>\n",
       "    </tr>\n",
       "  </tbody>\n",
       "</table>\n",
       "</div>"
      ],
      "text/plain": [
       "       Load (lbs)\n",
       "Brush            \n",
       "1             216\n",
       "10            245\n",
       "11            151\n",
       "12            221\n",
       "13            148\n",
       "14            129\n",
       "15            159\n",
       "2             107\n",
       "3             152\n",
       "4             236\n",
       "5             199\n",
       "5a            199\n",
       "6             127\n",
       "7             208\n",
       "8             232\n",
       "9             220"
      ]
     },
     "execution_count": 164,
     "metadata": {},
     "output_type": "execute_result"
    }
   ],
   "source": [
    "df = (\n",
    "    pd.concat(\n",
    "        [df.reset_index(drop=True) for df in dataframes.values()],\n",
    "        keys=dataframes.keys(),\n",
    "        names=[\"Brush\"],\n",
    "    )\n",
    "    .reset_index()\n",
    "    .drop(columns=[\"level_1\"])\n",
    ")\n",
    "df_load_max = df.groupby(\"Brush\").max()[[\"Load (lbs)\"]]\n",
    "df_load_max"
   ]
  },
  {
   "cell_type": "code",
   "execution_count": 165,
   "id": "66368f1e",
   "metadata": {},
   "outputs": [],
   "source": [
    "n = len(df_load_max)\n",
    "sample_mean = df_load_max[\"Load (lbs)\"].mean()\n",
    "sample_median = df_load_max[\"Load (lbs)\"].median()\n",
    "sample_stddev = df_load_max[\"Load (lbs)\"].std()"
   ]
  },
  {
   "cell_type": "markdown",
   "id": "7c33443b",
   "metadata": {},
   "source": [
    "# Simulate 10,000 Samples"
   ]
  },
  {
   "cell_type": "code",
   "execution_count": 166,
   "id": "66102768",
   "metadata": {},
   "outputs": [
    {
     "data": {
      "text/plain": [
       "(10000, 16)"
      ]
     },
     "execution_count": 166,
     "metadata": {},
     "output_type": "execute_result"
    }
   ],
   "source": [
    "data = np.random.normal(loc=sample_mean, scale=sample_stddev, size=(10_000, n))\n",
    "data.shape"
   ]
  },
  {
   "cell_type": "markdown",
   "id": "64412ace",
   "metadata": {},
   "source": [
    "# Calculate Estimators for Simulated Data"
   ]
  },
  {
   "cell_type": "markdown",
   "id": "511c861d",
   "metadata": {},
   "source": [
    "## E1 Estimate\n",
    "\n",
    "$$\n",
    "E1 = \\bar{x} - 1.28 \\cdot s\n",
    "$$"
   ]
  },
  {
   "cell_type": "code",
   "execution_count": 167,
   "id": "c334673c",
   "metadata": {},
   "outputs": [],
   "source": [
    "def E1(x: np.ndarray) -> np.float64:\n",
    "    return np.mean(x) - 1.28 * np.std(x, ddof=1)"
   ]
  },
  {
   "cell_type": "markdown",
   "id": "57a53442",
   "metadata": {},
   "source": [
    "# E2 Estimate\n",
    "\n",
    "$$\n",
    "\\text{For a dataset } \\{x_1, x_2, \\dots, x_n\\} \\text{ where } x_1 \\leq x_2 \\leq \\dots \\leq x_n, \\text{ the estimation of the } p\\text{th percentile (denoted as } E2 \\text{) for a sample of size } n \\text{ is given by:}\n",
    "$$\n",
    "\n",
    "\n",
    "$$\n",
    "i = \\frac{p \\cdot n}{100} + 0.5\n",
    "$$\n",
    "\n",
    "$$\n",
    "E2 = x_{\\lfloor i \\rfloor} + (i - \\lfloor i \\rfloor) \\cdot \\left( x_{\\lceil i \\rceil} - x_{\\lfloor i \\rfloor} \\right)\n",
    "$$\n"
   ]
  },
  {
   "cell_type": "code",
   "execution_count": 146,
   "id": "125f9ada",
   "metadata": {},
   "outputs": [],
   "source": [
    "def E2(x: np.ndarray, p=10) -> np.float64:\n",
    "    i = (p * n) / 100 + 0.5\n",
    "    x0, x1 = np.floor(i), np.ceil(i)\n",
    "    y0, y1 = sorted(x)[int(x0) - 1], sorted(x)[int(x1) - 1]\n",
    "    return y0 + (i - x0) * (y1 - y0)"
   ]
  },
  {
   "cell_type": "code",
   "execution_count": 147,
   "id": "f473bc8c",
   "metadata": {},
   "outputs": [
    {
     "data": {
      "text/plain": [
       "((10000,), (10000,))"
      ]
     },
     "execution_count": 147,
     "metadata": {},
     "output_type": "execute_result"
    }
   ],
   "source": [
    "E1_values = np.apply_along_axis(E1, 1, data)\n",
    "E2_values = np.apply_along_axis(E2, 1, data)\n",
    "\n",
    "E1_values.shape, E2_values.shape"
   ]
  },
  {
   "cell_type": "markdown",
   "id": "2c955c33",
   "metadata": {},
   "source": [
    "# Visualize Estimator Distributions"
   ]
  },
  {
   "cell_type": "code",
   "execution_count": 148,
   "id": "86beb86b",
   "metadata": {},
   "outputs": [
    {
     "data": {
      "image/png": "[encoded data removed]",
      "text/plain": [
       "<Figure size 640x480 with 1 Axes>"
      ]
     },
     "metadata": {},
     "output_type": "display_data"
    }
   ],
   "source": [
    "sns.histplot(\n",
    "    E1_values, label=\"E1\", color=\"blue\", bins=50, kde=True, stat=\"density\", alpha=0.4\n",
    ")\n",
    "sns.histplot(\n",
    "    E2_values, label=\"E2\", color=\"orange\", bins=50, kde=True, stat=\"density\", alpha=0.4\n",
    ")\n",
    "\n",
    "plt.title(\"E1 vs E2: Histogram with KDE Overlay\")\n",
    "plt.xlabel(\"Value\")\n",
    "plt.ylabel(\"Density\")\n",
    "plt.legend()\n",
    "plt.show()"
   ]
  },
  {
   "cell_type": "code",
   "execution_count": 149,
   "id": "ff09102f",
   "metadata": {},
   "outputs": [
    {
     "name": "stdout",
     "output_type": "stream",
     "text": [
      "Simulated 10,000 sets of normally distributed samples with size 16:\n",
      "\n",
      "E1:\n",
      "\tMean:\t128.27\n",
      "\tMedian:\t128.54\n",
      "\tStddev:\t15.24\n",
      "\n",
      "E2:\n",
      "\tMean:\t128.37\n",
      "\tMedian:\t129.05\n",
      "\tStddev:\t17.86\n"
     ]
    }
   ],
   "source": [
    "print(f\"Simulated 10,000 sets of normally distributed samples with size {n}:\")\n",
    "\n",
    "E1_mean = E1_values.mean()\n",
    "E2_mean = E2_values.mean()\n",
    "\n",
    "E1_median = np.median(E1_values)\n",
    "E2_median = np.median(E2_values)\n",
    "\n",
    "E1_stddev = E1_values.std(ddof=1)\n",
    "E2_stddev = E2_values.std(ddof=1)\n",
    "\n",
    "print(\"\\nE1:\")\n",
    "print(f\"\\tMean:\\t{E1_mean:.2f}\")\n",
    "print(f\"\\tMedian:\\t{E1_median:.2f}\")\n",
    "print(f\"\\tStddev:\\t{E1_stddev:.2f}\")\n",
    "\n",
    "print(\"\\nE2:\")\n",
    "print(f\"\\tMean:\\t{E2_mean:.2f}\")\n",
    "print(f\"\\tMedian:\\t{E2_median:.2f}\")\n",
    "print(f\"\\tStddev:\\t{E2_stddev:.2f}\")"
   ]
  },
  {
   "cell_type": "markdown",
   "id": "cdc5ab50",
   "metadata": {},
   "source": [
    "# Calculate true 10th Percentile\n",
    "\n",
    "$$\n",
    "\\theta = \\bar{x} - 1.28 \\cdot s\n",
    "$$"
   ]
  },
  {
   "cell_type": "code",
   "execution_count": 150,
   "id": "06c4842a",
   "metadata": {},
   "outputs": [
    {
     "name": "stdout",
     "output_type": "stream",
     "text": [
      "True 10th Percentile: 127.38\n"
     ]
    }
   ],
   "source": [
    "true_10th_percentile = sample_mean - 1.28 * sample_stddev\n",
    "print(f\"True 10th Percentile: {true_10th_percentile:.2f}\")"
   ]
  },
  {
   "cell_type": "markdown",
   "id": "caf8e0bc",
   "metadata": {},
   "source": [
    "# Estimate Bias & MSE\n",
    "\n",
    "$$\n",
    "\\text{Bias}(\\hat{\\theta}) = \\mathbb{E}[\\hat{\\theta}] - \\theta\n",
    "$$\n",
    "\n",
    "$$\n",
    "\\text{MSE}(\\hat{\\theta}) = \\mathbb{E}\\left[ (\\hat{\\theta} - \\theta)^2 \\right]\n",
    "$$\n",
    "\n",
    "$$\n",
    "\\text{MSE}(\\hat{\\theta}) = \\text{Var}(\\hat{\\theta}) + \\left( \\text{Bias}(\\hat{\\theta}) \\right)^2\n",
    "$$"
   ]
  },
  {
   "cell_type": "code",
   "execution_count": 151,
   "id": "d9033c29",
   "metadata": {},
   "outputs": [
    {
     "name": "stdout",
     "output_type": "stream",
     "text": [
      "E1:\n",
      "\tBias:\t0.89\n",
      "\tMSE:\t233.10\n",
      "\n",
      "E2:\n",
      "\tBias:\t1.00\n",
      "\tMSE:\t319.98\n"
     ]
    }
   ],
   "source": [
    "# Bias\n",
    "E1_bias = E1_values.mean() - true_10th_percentile\n",
    "E2_bias = E2_values.mean() - true_10th_percentile\n",
    "\n",
    "# MSE\n",
    "E1_mse = np.mean((E1_values - true_10th_percentile) ** 2)\n",
    "E2_mse = np.mean((E2_values - true_10th_percentile) ** 2)\n",
    "\n",
    "print(\"E1:\")\n",
    "print(f\"\\tBias:\\t{E1_bias:.2f}\")\n",
    "print(f\"\\tMSE:\\t{E1_mse:.2f}\")\n",
    "\n",
    "print(\"\\nE2:\")\n",
    "print(f\"\\tBias:\\t{E2_bias:.2f}\")\n",
    "print(f\"\\tMSE:\\t{E2_mse:.2f}\")"
   ]
  },
  {
   "cell_type": "markdown",
   "id": "0cb09e21",
   "metadata": {},
   "source": [
    "# Conclusion\n",
    "### Assuming the data is normally distributed, I would choose **E1** as the estimator for the 10th percentile because it has a lower mean squared error (MSE). \n",
    "\n",
    "Although the biases of E1 and E2 are fairly similar, **E2 shows a higher variance**, which negatively affects the overall quality of the estimator. This is reflected in its higher MSE, since the MSE combines both the squared bias and the variance of the estimator.\n"
   ]
  },
  {
   "cell_type": "markdown",
   "id": "7cc2487f",
   "metadata": {},
   "source": [
    "# Interval\n",
    "\n",
    "$$\n",
    "\\text{The estimator E1 is reported with a confidence interval constructed as:}\n",
    "$$\n",
    "\n",
    "$$\n",
    "E1 \\pm 2 \\cdot S1\n",
    "$$\n",
    "\n",
    "$$\n",
    "\\text{where S1 is the standard deviation of the estimator E1.}\n",
    "$$\n",
    "\n",
    "The multiplier 2 corresponds approximately to the critical value z from the standard normal distribution for a 95\\% confidence level, meaning we expect that this interval contains the true 10th percentile about 95\\% of the time under repeated sampling.Thus, the confidence interval provides a range of plausible values for the 10th percentile estimate, accounting for sampling variability."
   ]
  },
  {
   "cell_type": "code",
   "execution_count": 152,
   "id": "28bfbe9a",
   "metadata": {},
   "outputs": [
    {
     "data": {
      "text/plain": [
       "(97.79, 158.75)"
      ]
     },
     "execution_count": 152,
     "metadata": {},
     "output_type": "execute_result"
    }
   ],
   "source": [
    "E1_interval = E1_mean - 2 * E1_stddev, E1_mean + 2 * E1_stddev\n",
    "\n",
    "round(float(E1_interval[0]), 2), round(float(E1_interval[1]), 2)"
   ]
  },
  {
   "cell_type": "markdown",
   "id": "088e2739",
   "metadata": {},
   "source": [
    "# Decision (maybe has to be adjusted after removing outliers)\n",
    "\n",
    "- The interval isn't completely above 110 lbs -> can't be 90% confident my brushes will not fail at 110 lbs\n",
    "- Interval isn't completely below 110 lbs -> It isn't quite clear that my brushes fail at 110 lbs\n",
    "\n",
    "### -> Collect more data since the estimate from based on the data probably has too much error to make a conclusive decision"
   ]
  }
 ],
 "metadata": {
  "kernelspec": {
   "display_name": "statistics",
   "language": "python",
   "name": "python3"
  },
  "language_info": {
   "codemirror_mode": {
    "name": "ipython",
    "version": 3
   },
   "file_extension": ".py",
   "mimetype": "text/x-python",
   "name": "python",
   "nbconvert_exporter": "python",
   "pygments_lexer": "ipython3",
   "version": "3.11.6"
  }
 },
 "nbformat": 4,
 "nbformat_minor": 5
}

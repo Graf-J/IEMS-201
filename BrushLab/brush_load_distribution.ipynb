{
 "cells": [
  {
   "cell_type": "code",
   "execution_count": 37,
   "id": "4b3c19e9",
   "metadata": {},
   "outputs": [],
   "source": [
    "import math\n",
    "from io import StringIO\n",
    "import pandas as pd\n",
    "import matplotlib.pyplot as plt"
   ]
  },
  {
   "cell_type": "markdown",
   "id": "c4f08b39",
   "metadata": {},
   "source": [
    "# Data Preparation"
   ]
  },
  {
   "cell_type": "code",
   "execution_count": 26,
   "id": "a49a6972",
   "metadata": {},
   "outputs": [],
   "source": [
    "def get_data(file: str) -> pd.DataFrame:\n",
    "    data = []\n",
    "    with open(f\"data\\\\{file}\", \"r\") as file:\n",
    "        for idx, line in enumerate(file.readlines()):\n",
    "            # Skip Metadata lines\n",
    "            if idx in [0, 1, 2, 3, 4, 6]:\n",
    "                continue\n",
    "\n",
    "            data.append(line)\n",
    "\n",
    "    return pd.read_csv(StringIO(\"\".join(data))).rename(\n",
    "        columns={\n",
    "            \"Load (lbf)\": \"Load (lbs)\",\n",
    "        }\n",
    "    )"
   ]
  },
  {
   "cell_type": "code",
   "execution_count": 27,
   "id": "6732687f",
   "metadata": {},
   "outputs": [],
   "source": [
    "brush_tests = [\n",
    "    \"1\",\n",
    "    \"2\",\n",
    "    \"3\",\n",
    "    \"4\",\n",
    "    \"5\",\n",
    "    \"5a\",\n",
    "    \"6\",\n",
    "    \"7\",\n",
    "    \"8\",\n",
    "    \"9\",\n",
    "    \"10\",\n",
    "    \"11\",\n",
    "    \"12\",\n",
    "    \"13\",\n",
    "    \"14\",\n",
    "    \"15\",\n",
    "]\n",
    "\n",
    "dataframes = {}\n",
    "for brush in brush_tests:\n",
    "    dataframes[brush] = get_data(f\"Ankenman brushes_{brush}.txt\")"
   ]
  },
  {
   "cell_type": "code",
   "execution_count": 28,
   "id": "5421b64c",
   "metadata": {},
   "outputs": [
    {
     "data": {
      "text/html": [
       "<div>\n",
       "<style scoped>\n",
       "    .dataframe tbody tr th:only-of-type {\n",
       "        vertical-align: middle;\n",
       "    }\n",
       "\n",
       "    .dataframe tbody tr th {\n",
       "        vertical-align: top;\n",
       "    }\n",
       "\n",
       "    .dataframe thead th {\n",
       "        text-align: right;\n",
       "    }\n",
       "</style>\n",
       "<table border=\"1\" class=\"dataframe\">\n",
       "  <thead>\n",
       "    <tr style=\"text-align: right;\">\n",
       "      <th></th>\n",
       "      <th>Brush</th>\n",
       "      <th>Time (s)</th>\n",
       "      <th>Load (lbs)</th>\n",
       "      <th>Crosshead (in)</th>\n",
       "    </tr>\n",
       "  </thead>\n",
       "  <tbody>\n",
       "    <tr>\n",
       "      <th>0</th>\n",
       "      <td>1</td>\n",
       "      <td>0.40</td>\n",
       "      <td>0</td>\n",
       "      <td>0.000</td>\n",
       "    </tr>\n",
       "    <tr>\n",
       "      <th>1</th>\n",
       "      <td>1</td>\n",
       "      <td>0.60</td>\n",
       "      <td>0</td>\n",
       "      <td>0.000</td>\n",
       "    </tr>\n",
       "    <tr>\n",
       "      <th>2</th>\n",
       "      <td>1</td>\n",
       "      <td>0.80</td>\n",
       "      <td>0</td>\n",
       "      <td>0.000</td>\n",
       "    </tr>\n",
       "    <tr>\n",
       "      <th>3</th>\n",
       "      <td>1</td>\n",
       "      <td>1.00</td>\n",
       "      <td>0</td>\n",
       "      <td>0.001</td>\n",
       "    </tr>\n",
       "    <tr>\n",
       "      <th>4</th>\n",
       "      <td>1</td>\n",
       "      <td>1.20</td>\n",
       "      <td>0</td>\n",
       "      <td>0.001</td>\n",
       "    </tr>\n",
       "    <tr>\n",
       "      <th>...</th>\n",
       "      <td>...</td>\n",
       "      <td>...</td>\n",
       "      <td>...</td>\n",
       "      <td>...</td>\n",
       "    </tr>\n",
       "    <tr>\n",
       "      <th>19939</th>\n",
       "      <td>15</td>\n",
       "      <td>123.30</td>\n",
       "      <td>155</td>\n",
       "      <td>0.242</td>\n",
       "    </tr>\n",
       "    <tr>\n",
       "      <th>19940</th>\n",
       "      <td>15</td>\n",
       "      <td>123.40</td>\n",
       "      <td>155</td>\n",
       "      <td>0.242</td>\n",
       "    </tr>\n",
       "    <tr>\n",
       "      <th>19941</th>\n",
       "      <td>15</td>\n",
       "      <td>123.50</td>\n",
       "      <td>154</td>\n",
       "      <td>0.242</td>\n",
       "    </tr>\n",
       "    <tr>\n",
       "      <th>19942</th>\n",
       "      <td>15</td>\n",
       "      <td>123.60</td>\n",
       "      <td>153</td>\n",
       "      <td>0.243</td>\n",
       "    </tr>\n",
       "    <tr>\n",
       "      <th>19943</th>\n",
       "      <td>15</td>\n",
       "      <td>123.69</td>\n",
       "      <td>7</td>\n",
       "      <td>0.243</td>\n",
       "    </tr>\n",
       "  </tbody>\n",
       "</table>\n",
       "<p>19944 rows × 4 columns</p>\n",
       "</div>"
      ],
      "text/plain": [
       "      Brush  Time (s)  Load (lbs)  Crosshead (in)\n",
       "0         1      0.40           0           0.000\n",
       "1         1      0.60           0           0.000\n",
       "2         1      0.80           0           0.000\n",
       "3         1      1.00           0           0.001\n",
       "4         1      1.20           0           0.001\n",
       "...     ...       ...         ...             ...\n",
       "19939    15    123.30         155           0.242\n",
       "19940    15    123.40         155           0.242\n",
       "19941    15    123.50         154           0.242\n",
       "19942    15    123.60         153           0.243\n",
       "19943    15    123.69           7           0.243\n",
       "\n",
       "[19944 rows x 4 columns]"
      ]
     },
     "execution_count": 28,
     "metadata": {},
     "output_type": "execute_result"
    }
   ],
   "source": [
    "df = (\n",
    "    pd.concat(\n",
    "        [df.reset_index(drop=True) for df in dataframes.values()],\n",
    "        keys=dataframes.keys(),\n",
    "        names=[\"Brush\"],\n",
    "    )\n",
    "    .reset_index()\n",
    "    .drop(columns=[\"level_1\"])\n",
    ")\n",
    "\n",
    "df"
   ]
  },
  {
   "cell_type": "code",
   "execution_count": 29,
   "id": "fc841c23",
   "metadata": {},
   "outputs": [
    {
     "data": {
      "text/html": [
       "<div>\n",
       "<style scoped>\n",
       "    .dataframe tbody tr th:only-of-type {\n",
       "        vertical-align: middle;\n",
       "    }\n",
       "\n",
       "    .dataframe tbody tr th {\n",
       "        vertical-align: top;\n",
       "    }\n",
       "\n",
       "    .dataframe thead th {\n",
       "        text-align: right;\n",
       "    }\n",
       "</style>\n",
       "<table border=\"1\" class=\"dataframe\">\n",
       "  <thead>\n",
       "    <tr style=\"text-align: right;\">\n",
       "      <th></th>\n",
       "      <th>Load (lbs)</th>\n",
       "    </tr>\n",
       "    <tr>\n",
       "      <th>Brush</th>\n",
       "      <th></th>\n",
       "    </tr>\n",
       "  </thead>\n",
       "  <tbody>\n",
       "    <tr>\n",
       "      <th>1</th>\n",
       "      <td>216</td>\n",
       "    </tr>\n",
       "    <tr>\n",
       "      <th>10</th>\n",
       "      <td>245</td>\n",
       "    </tr>\n",
       "    <tr>\n",
       "      <th>11</th>\n",
       "      <td>151</td>\n",
       "    </tr>\n",
       "    <tr>\n",
       "      <th>12</th>\n",
       "      <td>221</td>\n",
       "    </tr>\n",
       "    <tr>\n",
       "      <th>13</th>\n",
       "      <td>148</td>\n",
       "    </tr>\n",
       "    <tr>\n",
       "      <th>14</th>\n",
       "      <td>129</td>\n",
       "    </tr>\n",
       "    <tr>\n",
       "      <th>15</th>\n",
       "      <td>159</td>\n",
       "    </tr>\n",
       "    <tr>\n",
       "      <th>2</th>\n",
       "      <td>107</td>\n",
       "    </tr>\n",
       "    <tr>\n",
       "      <th>3</th>\n",
       "      <td>152</td>\n",
       "    </tr>\n",
       "    <tr>\n",
       "      <th>4</th>\n",
       "      <td>236</td>\n",
       "    </tr>\n",
       "    <tr>\n",
       "      <th>5</th>\n",
       "      <td>199</td>\n",
       "    </tr>\n",
       "    <tr>\n",
       "      <th>5a</th>\n",
       "      <td>199</td>\n",
       "    </tr>\n",
       "    <tr>\n",
       "      <th>6</th>\n",
       "      <td>127</td>\n",
       "    </tr>\n",
       "    <tr>\n",
       "      <th>7</th>\n",
       "      <td>208</td>\n",
       "    </tr>\n",
       "    <tr>\n",
       "      <th>8</th>\n",
       "      <td>232</td>\n",
       "    </tr>\n",
       "    <tr>\n",
       "      <th>9</th>\n",
       "      <td>220</td>\n",
       "    </tr>\n",
       "  </tbody>\n",
       "</table>\n",
       "</div>"
      ],
      "text/plain": [
       "       Load (lbs)\n",
       "Brush            \n",
       "1             216\n",
       "10            245\n",
       "11            151\n",
       "12            221\n",
       "13            148\n",
       "14            129\n",
       "15            159\n",
       "2             107\n",
       "3             152\n",
       "4             236\n",
       "5             199\n",
       "5a            199\n",
       "6             127\n",
       "7             208\n",
       "8             232\n",
       "9             220"
      ]
     },
     "execution_count": 29,
     "metadata": {},
     "output_type": "execute_result"
    }
   ],
   "source": [
    "df_load_max = df.groupby(\"Brush\").max()[[\"Load (lbs)\"]]\n",
    "df_load_max"
   ]
  },
  {
   "cell_type": "markdown",
   "id": "7e6f330b",
   "metadata": {},
   "source": [
    "# Data Visualization"
   ]
  },
  {
   "cell_type": "code",
   "execution_count": 30,
   "id": "6ffcee77",
   "metadata": {},
   "outputs": [
    {
     "data": {
      "image/png": "[encoded data removed]",
      "text/plain": [
       "<Figure size 1200x500 with 2 Axes>"
      ]
     },
     "metadata": {},
     "output_type": "display_data"
    }
   ],
   "source": [
    "load_max_values = [df_load_max.loc[brush, \"Load (lbs)\"] for brush in brush_tests]\n",
    "\n",
    "fig, axs = plt.subplots(1, 2, figsize=(12, 5))\n",
    "\n",
    "# Timeseries Line Plot\n",
    "axs[0].plot(brush_tests, load_max_values, marker=\"o\")\n",
    "axs[0].set_title(\"Maximum Load Timeseries-Plot\")\n",
    "axs[0].set_xlabel(\"Brush\")\n",
    "axs[0].set_ylabel(\"Load (lbs)\")\n",
    "axs[0].tick_params(axis=\"x\", rotation=45)  # Rotate x-axis if needed\n",
    "\n",
    "# Histogram\n",
    "axs[1].hist(df_load_max[\"Load (lbs)\"], bins=12, edgecolor=\"black\")\n",
    "axs[1].set_title(\"Maximum Load Histogram\")\n",
    "axs[1].set_xlabel(\"Load (lbs)\")\n",
    "axs[1].set_ylabel(\"Frequency\")\n",
    "\n",
    "plt.tight_layout()\n",
    "plt.show()"
   ]
  },
  {
   "cell_type": "markdown",
   "id": "8c2db32d",
   "metadata": {},
   "source": [
    "# Sample Statistics"
   ]
  },
  {
   "cell_type": "code",
   "execution_count": null,
   "id": "14e2fc97",
   "metadata": {},
   "outputs": [
    {
     "name": "stdout",
     "output_type": "stream",
     "text": [
      "Sample Size:\t16\n",
      "Sample Mean:\t184.31 lbs\n",
      "Sample Median:\t199.00 lbs\n",
      "Sample Stddev:\t44.48 lbs\n"
     ]
    }
   ],
   "source": [
    "n = len(df_load_max)\n",
    "sample_mean = df_load_max[\"Load (lbs)\"].mean()\n",
    "sample_median = df_load_max[\"Load (lbs)\"].median()\n",
    "sample_stddev = df_load_max[\"Load (lbs)\"].std()\n",
    "\n",
    "print(f\"Sample Size:\\t{n}\")\n",
    "print(f\"Sample Mean:\\t{sample_mean:.2f} lbs\")\n",
    "print(f\"Sample Median:\\t{sample_median:.2f} lbs\")\n",
    "print(f\"Sample Stddev:\\t{sample_stddev:.2f} lbs\")"
   ]
  },
  {
   "cell_type": "markdown",
   "id": "a3659405",
   "metadata": {},
   "source": [
    "# E1 Estimate\n",
    "\n",
    "$$\n",
    "E1 = \\bar{x} + 1.28 \\cdot s\n",
    "$$"
   ]
  },
  {
   "cell_type": "code",
   "execution_count": 61,
   "id": "4fc8409b",
   "metadata": {},
   "outputs": [
    {
     "name": "stdout",
     "output_type": "stream",
     "text": [
      "E1=127.38\n"
     ]
    }
   ],
   "source": [
    "E1 = sample_mean - 1.28 * sample_stddev\n",
    "print(f\"{E1=:.2f}\")"
   ]
  },
  {
   "cell_type": "markdown",
   "id": "3a2fada5",
   "metadata": {},
   "source": [
    "# E2 Estimate\n",
    "\n",
    "$$\n",
    "\\text{For a dataset } \\{x_1, x_2, \\dots, x_n\\} \\text{ where } x_1 \\leq x_2 \\leq \\dots \\leq x_n, \\text{ the estimation of the } p\\text{th percentile (denoted as } E2 \\text{) for a sample of size } n \\text{ is given by:}\n",
    "$$\n",
    "\n",
    "\n",
    "$$\n",
    "i = \\frac{p \\cdot n}{100} + 0.5\n",
    "$$\n",
    "\n",
    "$$\n",
    "E2 = x_{\\lfloor i \\rfloor} + (i - \\lfloor i \\rfloor) \\cdot \\left( x_{\\lceil i \\rceil} - x_{\\lfloor i \\rfloor} \\right)\n",
    "$$\n"
   ]
  },
  {
   "cell_type": "code",
   "execution_count": 62,
   "id": "bb163f29",
   "metadata": {},
   "outputs": [
    {
     "name": "stdout",
     "output_type": "stream",
     "text": [
      "E2=127.20\n"
     ]
    }
   ],
   "source": [
    "p = 10\n",
    "i = (p * n) / 100 + 0.5  # Derived from Textbook-Formula\n",
    "# Linear Interpolation\n",
    "x0, x1 = math.floor(i), math.ceil(i)\n",
    "y0, y1 = sorted(load_max_values)[x0 - 1], sorted(load_max_values)[x1 - 1]\n",
    "E2 = y0 + (i - x0) * (y1 - y0)\n",
    "\n",
    "print(f\"{E2=:.2f}\")"
   ]
  }
 ],
 "metadata": {
  "kernelspec": {
   "display_name": "statistics",
   "language": "python",
   "name": "python3"
  },
  "language_info": {
   "codemirror_mode": {
    "name": "ipython",
    "version": 3
   },
   "file_extension": ".py",
   "mimetype": "text/x-python",
   "name": "python",
   "nbconvert_exporter": "python",
   "pygments_lexer": "ipython3",
   "version": "3.11.6"
  }
 },
 "nbformat": 4,
 "nbformat_minor": 5
}

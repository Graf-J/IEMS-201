{
 "cells": [
  {
   "cell_type": "code",
   "execution_count": 4,
   "id": "4d4d678c",
   "metadata": {},
   "outputs": [],
   "source": [
    "import numpy as np\n",
    "import matplotlib.pyplot as plt"
   ]
  },
  {
   "cell_type": "code",
   "execution_count": null,
   "id": "ce55ddb2",
   "metadata": {},
   "outputs": [],
   "source": [
    "x_new = np.array(\n",
    "    [\n",
    "        25,\n",
    "        18,\n",
    "        33,\n",
    "        16,\n",
    "        39,\n",
    "        25,\n",
    "        29,\n",
    "        7,\n",
    "        21,\n",
    "        25,\n",
    "        23,\n",
    "        27,\n",
    "        21,\n",
    "        17,\n",
    "        28,\n",
    "        23,\n",
    "        28,\n",
    "        19,\n",
    "        25,\n",
    "        24,\n",
    "        13,\n",
    "        26,\n",
    "        22,\n",
    "        12,\n",
    "        41,\n",
    "    ]\n",
    ")\n",
    "x_old = np.array(\n",
    "    [\n",
    "        43,\n",
    "        36,\n",
    "        35,\n",
    "        29,\n",
    "        38,\n",
    "        30,\n",
    "        32,\n",
    "        32,\n",
    "        36,\n",
    "        29,\n",
    "        35,\n",
    "        21,\n",
    "        37,\n",
    "        26,\n",
    "        36,\n",
    "        31,\n",
    "        31,\n",
    "        40,\n",
    "        45,\n",
    "        45,\n",
    "        43,\n",
    "        32,\n",
    "        22,\n",
    "        23,\n",
    "        26,\n",
    "    ]\n",
    ")"
   ]
  },
  {
   "cell_type": "code",
   "execution_count": null,
   "id": "8511e27d",
   "metadata": {},
   "outputs": [
    {
     "data": {
      "text/plain": [
       "[]"
      ]
     },
     "execution_count": 9,
     "metadata": {},
     "output_type": "execute_result"
    },
    {
     "data": {
      "image/png": "[encoded data removed]",
      "text/plain": [
       "<Figure size 640x480 with 1 Axes>"
      ]
     },
     "metadata": {},
     "output_type": "display_data"
    }
   ],
   "source": [
    "plt.boxplot([x_new, x_old], tick_labels=[\"New\", \"Old\"])\n",
    "\n",
    "plt.ylabel(\"Download Time [s]\")\n",
    "\n",
    "plt.plot()"
   ]
  },
  {
   "cell_type": "code",
   "execution_count": 10,
   "id": "945c2dc4",
   "metadata": {},
   "outputs": [
    {
     "data": {
      "text/plain": [
       "(np.float64(23.48),\n",
       " np.float64(33.32),\n",
       " np.float64(7.676370670223441),\n",
       " np.float64(6.847870715290507),\n",
       " 25,\n",
       " 25)"
      ]
     },
     "execution_count": 10,
     "metadata": {},
     "output_type": "execute_result"
    }
   ],
   "source": [
    "x_new.mean(), x_old.mean(), x_new.std(ddof=1), x_old.std(ddof=1), len(x_new), len(x_new)"
   ]
  }
 ],
 "metadata": {
  "kernelspec": {
   "display_name": "statistics",
   "language": "python",
   "name": "python3"
  },
  "language_info": {
   "codemirror_mode": {
    "name": "ipython",
    "version": 3
   },
   "file_extension": ".py",
   "mimetype": "text/x-python",
   "name": "python",
   "nbconvert_exporter": "python",
   "pygments_lexer": "ipython3",
   "version": "3.11.6"
  }
 },
 "nbformat": 4,
 "nbformat_minor": 5
}

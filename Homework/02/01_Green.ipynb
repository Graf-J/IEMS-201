{
 "cells": [
  {
   "cell_type": "code",
   "execution_count": 20,
   "id": "b82bebbd",
   "metadata": {},
   "outputs": [],
   "source": [
    "import numpy as np\n",
    "import pandas as pd\n",
    "import matplotlib.pyplot as plt"
   ]
  },
  {
   "cell_type": "code",
   "execution_count": null,
   "id": "8b53f63b",
   "metadata": {},
   "outputs": [
    {
     "data": {
      "text/html": [
       "<div>\n",
       "<style scoped>\n",
       "    .dataframe tbody tr th:only-of-type {\n",
       "        vertical-align: middle;\n",
       "    }\n",
       "\n",
       "    .dataframe tbody tr th {\n",
       "        vertical-align: top;\n",
       "    }\n",
       "\n",
       "    .dataframe thead th {\n",
       "        text-align: right;\n",
       "    }\n",
       "</style>\n",
       "<table border=\"1\" class=\"dataframe\">\n",
       "  <thead>\n",
       "    <tr style=\"text-align: right;\">\n",
       "      <th></th>\n",
       "      <th>July Rainfall (cm)</th>\n",
       "    </tr>\n",
       "    <tr>\n",
       "      <th>Rain Gage Number</th>\n",
       "      <th></th>\n",
       "    </tr>\n",
       "  </thead>\n",
       "  <tbody>\n",
       "    <tr>\n",
       "      <th>1</th>\n",
       "      <td>2.10</td>\n",
       "    </tr>\n",
       "    <tr>\n",
       "      <th>2</th>\n",
       "      <td>0.00</td>\n",
       "    </tr>\n",
       "    <tr>\n",
       "      <th>3</th>\n",
       "      <td>0.59</td>\n",
       "    </tr>\n",
       "    <tr>\n",
       "      <th>4</th>\n",
       "      <td>0.99</td>\n",
       "    </tr>\n",
       "    <tr>\n",
       "      <th>5</th>\n",
       "      <td>1.16</td>\n",
       "    </tr>\n",
       "  </tbody>\n",
       "</table>\n",
       "</div>"
      ],
      "text/plain": [
       "                  July Rainfall (cm)\n",
       "Rain Gage Number                    \n",
       "1                               2.10\n",
       "2                               0.00\n",
       "3                               0.59\n",
       "4                               0.99\n",
       "5                               1.16"
      ]
     },
     "execution_count": 7,
     "metadata": {},
     "output_type": "execute_result"
    }
   ],
   "source": [
    "df = pd.read_csv(\"01_Green.csv\")\n",
    "df = df.set_index(\"Rain Gage Number\")\n",
    "df.head()"
   ]
  },
  {
   "cell_type": "code",
   "execution_count": null,
   "id": "91c83aa4",
   "metadata": {},
   "outputs": [
    {
     "data": {
      "text/plain": [
       "array([[2.1 , 0.  , 0.59, 0.99, 1.16, 0.74],\n",
       "       [2.39, 0.77, 1.05, 1.01, 0.9 , 0.93],\n",
       "       [2.3 , 0.74, 0.87, 1.08, 1.02, 1.16],\n",
       "       [1.42, 0.52, 0.67, 0.99, 0.89, 0.99],\n",
       "       [1.97, 0.87, 1.23, 0.98, 1.21, 0.98],\n",
       "       [2.03, 0.99, 0.76, 1.16, 0.74, 0.59]])"
      ]
     },
     "execution_count": 19,
     "metadata": {},
     "output_type": "execute_result"
    }
   ],
   "source": [
    "rain_map = np.zeros((6, 6))\n",
    "for idx, row in df.iterrows():\n",
    "    row_pos = (idx - 1) // 6\n",
    "    col_pos = (idx - 1) % 6\n",
    "    rain_map[row_pos, col_pos] = row[\"July Rainfall (cm)\"]\n",
    "\n",
    "rain_map"
   ]
  },
  {
   "cell_type": "code",
   "execution_count": 25,
   "id": "de123b73",
   "metadata": {},
   "outputs": [
    {
     "data": {
      "text/plain": [
       "<matplotlib.colorbar.Colorbar at 0x2a69c9ba2d0>"
      ]
     },
     "execution_count": 25,
     "metadata": {},
     "output_type": "execute_result"
    },
    {
     "data": {
      "image/png": "[encoded data removed]",
      "text/plain": [
       "<Figure size 640x480 with 2 Axes>"
      ]
     },
     "metadata": {},
     "output_type": "display_data"
    }
   ],
   "source": [
    "plt.imshow(rain_map, interpolation=\"nearest\")\n",
    "plt.title(\"July Rainfall Distribution\")\n",
    "plt.colorbar(label=\"July Rainfall (cm)\")"
   ]
  }
 ],
 "metadata": {
  "kernelspec": {
   "display_name": "statistics",
   "language": "python",
   "name": "python3"
  },
  "language_info": {
   "codemirror_mode": {
    "name": "ipython",
    "version": 3
   },
   "file_extension": ".py",
   "mimetype": "text/x-python",
   "name": "python",
   "nbconvert_exporter": "python",
   "pygments_lexer": "ipython3",
   "version": "3.11.6"
  }
 },
 "nbformat": 4,
 "nbformat_minor": 5
}

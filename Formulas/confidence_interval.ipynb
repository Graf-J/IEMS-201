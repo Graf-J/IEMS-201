{
 "cells": [
  {
   "cell_type": "code",
   "execution_count": 2,
   "id": "348dce1a",
   "metadata": {},
   "outputs": [],
   "source": [
    "import math\n",
    "from scipy.stats import norm"
   ]
  },
  {
   "cell_type": "code",
   "execution_count": 1,
   "id": "a453b9db",
   "metadata": {},
   "outputs": [],
   "source": [
    "def confidence_interval_proportion(\n",
    "    p: float, n: int, confidence_level=0.95\n",
    ") -> tuple[float, float]:\n",
    "    \"\"\"\n",
    "    Calculate the confidence interval for a proportion.\n",
    "\n",
    "    Args:\n",
    "        p (float): The sample proportion (number of successes divided by the total number of trials).\n",
    "        n (int): The total number of trials (sample size).\n",
    "        confidence_level (float): The confidence level for the interval (default is 0.95).\n",
    "\n",
    "    Returns:\n",
    "        tuple: A tuple containing the lower and upper bounds of the confidence interval.\n",
    "    \"\"\"\n",
    "    q = 1 - p\n",
    "    z = float(-norm.ppf((1 - confidence_level) / 2))\n",
    "    p_tilde = (p + (z**2) / (2 * n)) / (1 + (z**2) / n)\n",
    "    lower_bound = p_tilde - z * (math.sqrt((p * q) / n + (z**2) / (4 * n**2))) / (\n",
    "        1 + (z**2) / n\n",
    "    )\n",
    "    upper_bound = p_tilde + z * (math.sqrt((p * q) / n + (z**2) / (4 * n**2))) / (\n",
    "        1 + (z**2) / n\n",
    "    )\n",
    "\n",
    "    return round(float(lower_bound), 3), round(float(upper_bound), 3)"
   ]
  },
  {
   "cell_type": "code",
   "execution_count": 5,
   "id": "83c3e3ea",
   "metadata": {},
   "outputs": [
    {
     "data": {
      "text/plain": [
       "(0.0, 0.025)"
      ]
     },
     "execution_count": 5,
     "metadata": {},
     "output_type": "execute_result"
    }
   ],
   "source": [
    "confidence_interval_proportion(0, 150)"
   ]
  }
 ],
 "metadata": {
  "kernelspec": {
   "display_name": "statistics",
   "language": "python",
   "name": "python3"
  },
  "language_info": {
   "codemirror_mode": {
    "name": "ipython",
    "version": 3
   },
   "file_extension": ".py",
   "mimetype": "text/x-python",
   "name": "python",
   "nbconvert_exporter": "python",
   "pygments_lexer": "ipython3",
   "version": "3.11.6"
  }
 },
 "nbformat": 4,
 "nbformat_minor": 5
}

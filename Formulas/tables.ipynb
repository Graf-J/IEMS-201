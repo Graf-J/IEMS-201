{
 "cells": [
  {
   "cell_type": "code",
   "execution_count": 16,
   "id": "e5217c58",
   "metadata": {},
   "outputs": [],
   "source": [
    "from scipy.stats import norm as ztable, t as ttable"
   ]
  },
  {
   "cell_type": "code",
   "execution_count": 20,
   "id": "367c5bd8",
   "metadata": {},
   "outputs": [],
   "source": [
    "def z(confidence_level: float = 0.95) -> float:\n",
    "    \"\"\"\n",
    "    Lookup in Z-Table\n",
    "\n",
    "    Parameters:\n",
    "    confidence_level (float): Confidence level for the interval, default is 0.95.\n",
    "\n",
    "    Returns:\n",
    "    float: The value of the Z-Table\n",
    "    \"\"\"\n",
    "    return round(float(-ztable.ppf((1 - confidence_level) / 2)), 2)"
   ]
  },
  {
   "cell_type": "code",
   "execution_count": 21,
   "id": "12dc6c38",
   "metadata": {},
   "outputs": [],
   "source": [
    "def t(sample_size: int, confidence_level: float = 0.95) -> float:\n",
    "    \"\"\"\n",
    "    Lookup in T-Table\n",
    "\n",
    "    Parameters:\n",
    "    sample_size (int): Sample Size (Formula calculated degree of freedom by subtracting 1).\n",
    "    confidence_level (float): Confidence level for the interval, default is 0.95.\n",
    "\n",
    "    Returns:\n",
    "    float: The value of the T-Table\n",
    "    \"\"\"\n",
    "    return round(float(-ttable.ppf((1 - confidence_level) / 2, df=sample_size - 1)), 2)"
   ]
  },
  {
   "cell_type": "code",
   "execution_count": 25,
   "id": "6a1ec39b",
   "metadata": {},
   "outputs": [
    {
     "data": {
      "text/plain": [
       "2.58"
      ]
     },
     "execution_count": 25,
     "metadata": {},
     "output_type": "execute_result"
    }
   ],
   "source": [
    "z(confidence_level=0.99)"
   ]
  },
  {
   "cell_type": "code",
   "execution_count": 26,
   "id": "37d816be",
   "metadata": {},
   "outputs": [
    {
     "data": {
      "text/plain": [
       "2.72"
      ]
     },
     "execution_count": 26,
     "metadata": {},
     "output_type": "execute_result"
    }
   ],
   "source": [
    "t(sample_size=36, confidence_level=0.99)"
   ]
  }
 ],
 "metadata": {
  "kernelspec": {
   "display_name": "statistics",
   "language": "python",
   "name": "python3"
  },
  "language_info": {
   "codemirror_mode": {
    "name": "ipython",
    "version": 3
   },
   "file_extension": ".py",
   "mimetype": "text/x-python",
   "name": "python",
   "nbconvert_exporter": "python",
   "pygments_lexer": "ipython3",
   "version": "3.11.6"
  }
 },
 "nbformat": 4,
 "nbformat_minor": 5
}

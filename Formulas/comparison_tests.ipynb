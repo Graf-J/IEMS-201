{
 "cells": [
  {
   "cell_type": "code",
   "execution_count": 2,
   "id": "bfb8d58e",
   "metadata": {},
   "outputs": [],
   "source": [
    "import math\n",
    "import numpy as np\n",
    "from scipy.stats import t, norm as ztable"
   ]
  },
  {
   "cell_type": "markdown",
   "id": "1afdcc87",
   "metadata": {},
   "source": [
    "# Comparison Tests ($\\sigma_1 = \\sigma_2 = \\sigma$)"
   ]
  },
  {
   "cell_type": "code",
   "execution_count": null,
   "id": "18b3ae8b",
   "metadata": {},
   "outputs": [
    {
     "ename": "",
     "evalue": "",
     "output_type": "error",
     "traceback": [
      "\u001b[1;31mThe Kernel crashed while executing code in the current cell or a previous cell. \n",
      "\u001b[1;31mPlease review the code in the cell(s) to identify a possible cause of the failure. \n",
      "\u001b[1;31mClick <a href='https://aka.ms/vscodeJupyterKernelCrash'>here</a> for more info. \n",
      "\u001b[1;31mView Jupyter <a href='command:jupyter.viewOutput'>log</a> for further details."
     ]
    }
   ],
   "source": [
    "def comparison_test_same_variance(\n",
    "    x1: float,\n",
    "    x2: float,\n",
    "    s1: float,\n",
    "    s2: float,\n",
    "    n1: int,\n",
    "    n2: int,\n",
    "    confidence_level: float = 0.95,\n",
    ") -> tuple[float, float]:\n",
    "    \"\"\"\n",
    "    Perform a comparison test for two means with the assumption of equal variances.\n",
    "\n",
    "    Parameters:\n",
    "    x1 (float): Mean of the first sample.\n",
    "    x2 (float): Mean of the second sample.\n",
    "    s1 (float): Standard deviation of the first sample.\n",
    "    s2 (float): Standard deviation of the second sample.\n",
    "    n1 (int): Size of the first sample.\n",
    "    n2 (int): Size of the second sample.\n",
    "    confidence_level (float): Confidence level for the test, default is 0.95.\n",
    "\n",
    "    Returns:\n",
    "    tuple[float, float]: The Confidence Interval (CI) of the difference in means x1 - x2\n",
    "    \"\"\"\n",
    "\n",
    "    sp = math.sqrt(((n1 - 1) * s1**2 + (n2 - 1) * s2**2) / (n1 + n2 - 2))\n",
    "    t_value = -t.ppf((1 - confidence_level) / 2, df=n1 + n2 - 2)\n",
    "\n",
    "    interval_left = x1 - x2 - t_value * sp * math.sqrt(1 / n1 + 1 / n2)\n",
    "    interval_right = x1 - x2 + t_value * sp * math.sqrt(1 / n1 + 1 / n2)\n",
    "\n",
    "    return round(float(interval_left), 3), round(float(interval_right), 3)"
   ]
  },
  {
   "cell_type": "markdown",
   "id": "e0f4f534",
   "metadata": {},
   "source": [
    "# Comparison Test ($\\sigma_1 \\neq \\sigma_2$)"
   ]
  },
  {
   "cell_type": "code",
   "execution_count": null,
   "id": "6007ed50",
   "metadata": {},
   "outputs": [],
   "source": [
    "def comparison_test_different_variance(\n",
    "    x1: float,\n",
    "    x2: float,\n",
    "    s1: float,\n",
    "    s2: float,\n",
    "    n1: int,\n",
    "    n2: int,\n",
    "    confidence_level: float = 0.95,\n",
    ") -> tuple[float, float]:\n",
    "    \"\"\"\n",
    "    Perform a comparison test for two means with the assumption of different variances.\n",
    "\n",
    "    Parameters:\n",
    "    x1 (float): Mean of the first sample.\n",
    "    x2 (float): Mean of the second sample.\n",
    "    s1 (float): Standard deviation of the first sample.\n",
    "    s2 (float): Standard deviation of the second sample.\n",
    "    n1 (int): Size of the first sample.\n",
    "    n2 (int): Size of the second sample.\n",
    "    confidence_level (float): Confidence level for the test, default is 0.95.\n",
    "\n",
    "    Returns:\n",
    "    tuple[float, float]: The Confidence Interval (CI) of the difference in means x1 - x2\n",
    "    \"\"\"\n",
    "\n",
    "    df = (s1**2 / n1 + s2**2 / n2) ** 2 / (\n",
    "        (s1**2 / n1) ** 2 / (n1 - 1) + (s2**2 / n2) ** 2 / (n2 - 1)\n",
    "    )\n",
    "    t_value = -t.ppf((1 - confidence_level) / 2, df=df)\n",
    "\n",
    "    interval_left = x1 - x2 - t_value * math.sqrt(s1**2 / n1 + s2**2 / n2)\n",
    "    interval_right = x1 - x2 + t_value * math.sqrt(s1**2 / n1 + s2**2 / n2)\n",
    "\n",
    "    return round(float(interval_left), 3), round(float(interval_right), 3)"
   ]
  },
  {
   "cell_type": "code",
   "execution_count": null,
   "id": "d84d0cd8",
   "metadata": {},
   "outputs": [],
   "source": [
    "def comparison_test_proportion(\n",
    "    p1: float, p2: float, n1: int, n2: int, confidence_level: float = 0.95\n",
    ") -> tuple[float, float]:\n",
    "    q1 = 1 - p1\n",
    "    q2 = 1 - p2\n",
    "    z_value = float(-ztable.ppf((1 - confidence_level) / 2))\n",
    "\n",
    "    interval_left = p1 - p2 - z_value * math.sqrt((p1 * q1) / n1 + (p2 * q2) / n2)\n",
    "    interval_right = p1 - p2 + z_value * math.sqrt((p1 * q1) / n1 + (p2 * q2) / n2)\n",
    "\n",
    "    return round(float(interval_left), 3), round(float(interval_right), 3)"
   ]
  },
  {
   "cell_type": "code",
   "execution_count": 3,
   "id": "1959ae53",
   "metadata": {},
   "outputs": [
    {
     "name": "stdout",
     "output_type": "stream",
     "text": [
      "6.575686275971505\n"
     ]
    },
    {
     "data": {
      "text/plain": [
       "(-6.571, 6.571)"
      ]
     },
     "execution_count": 3,
     "metadata": {},
     "output_type": "execute_result"
    }
   ],
   "source": [
    "comparison_test_same_variance(\n",
    "    x1=np.float64(0),\n",
    "    x2=np.float64(0),\n",
    "    s1=np.float64(6.67),\n",
    "    s2=np.float64(6.48),\n",
    "    n1=9,\n",
    "    n2=9,\n",
    ")"
   ]
  },
  {
   "cell_type": "code",
   "execution_count": 3,
   "id": "745a0d3f",
   "metadata": {},
   "outputs": [
    {
     "data": {
      "text/plain": [
       "(-0.176, 0.056)"
      ]
     },
     "execution_count": 3,
     "metadata": {},
     "output_type": "execute_result"
    }
   ],
   "source": [
    "comparison_test_proportion(0.74, 0.8, 100, 100)"
   ]
  }
 ],
 "metadata": {
  "kernelspec": {
   "display_name": "statistics",
   "language": "python",
   "name": "python3"
  },
  "language_info": {
   "codemirror_mode": {
    "name": "ipython",
    "version": 3
   },
   "file_extension": ".py",
   "mimetype": "text/x-python",
   "name": "python",
   "nbconvert_exporter": "python",
   "pygments_lexer": "ipython3",
   "version": "3.11.6"
  }
 },
 "nbformat": 4,
 "nbformat_minor": 5
}
